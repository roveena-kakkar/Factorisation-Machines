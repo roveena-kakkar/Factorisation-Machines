{
  "nbformat": 4,
  "nbformat_minor": 0,
  "metadata": {
    "colab": {
      "provenance": []
    },
    "kernelspec": {
      "name": "python3",
      "display_name": "Python 3"
    },
    "language_info": {
      "name": "python"
    }
  },
  "cells": [
    {
      "cell_type": "code",
      "source": [
        "pip install deepctr"
      ],
      "metadata": {
        "colab": {
          "base_uri": "https://localhost:8080/"
        },
        "id": "8U9F7qwCDQzy",
        "outputId": "2dd5d5b1-c9a9-445e-98b5-58efa1c20100"
      },
      "execution_count": 1,
      "outputs": [
        {
          "output_type": "stream",
          "name": "stdout",
          "text": [
            "Looking in indexes: https://pypi.org/simple, https://us-python.pkg.dev/colab-wheels/public/simple/\n",
            "Collecting deepctr\n",
            "  Downloading deepctr-0.9.3-py3-none-any.whl (141 kB)\n",
            "\u001b[2K     \u001b[90m━━━━━━━━━━━━━━━━━━━━━━━━━━━━━━━━━━━━━━━\u001b[0m \u001b[32m141.2/141.2 kB\u001b[0m \u001b[31m5.3 MB/s\u001b[0m eta \u001b[36m0:00:00\u001b[0m\n",
            "\u001b[?25hRequirement already satisfied: requests in /usr/local/lib/python3.9/dist-packages (from deepctr) (2.27.1)\n",
            "Collecting h5py==3.7.0\n",
            "  Downloading h5py-3.7.0-cp39-cp39-manylinux_2_12_x86_64.manylinux2010_x86_64.whl (4.5 MB)\n",
            "\u001b[2K     \u001b[90m━━━━━━━━━━━━━━━━━━━━━━━━━━━━━━━━━━━━━━━━\u001b[0m \u001b[32m4.5/4.5 MB\u001b[0m \u001b[31m55.4 MB/s\u001b[0m eta \u001b[36m0:00:00\u001b[0m\n",
            "\u001b[?25hRequirement already satisfied: numpy>=1.14.5 in /usr/local/lib/python3.9/dist-packages (from h5py==3.7.0->deepctr) (1.22.4)\n",
            "Requirement already satisfied: idna<4,>=2.5 in /usr/local/lib/python3.9/dist-packages (from requests->deepctr) (3.4)\n",
            "Requirement already satisfied: urllib3<1.27,>=1.21.1 in /usr/local/lib/python3.9/dist-packages (from requests->deepctr) (1.26.15)\n",
            "Requirement already satisfied: charset-normalizer~=2.0.0 in /usr/local/lib/python3.9/dist-packages (from requests->deepctr) (2.0.12)\n",
            "Requirement already satisfied: certifi>=2017.4.17 in /usr/local/lib/python3.9/dist-packages (from requests->deepctr) (2022.12.7)\n",
            "Installing collected packages: h5py, deepctr\n",
            "  Attempting uninstall: h5py\n",
            "    Found existing installation: h5py 3.8.0\n",
            "    Uninstalling h5py-3.8.0:\n",
            "      Successfully uninstalled h5py-3.8.0\n",
            "Successfully installed deepctr-0.9.3 h5py-3.7.0\n"
          ]
        }
      ]
    },
    {
      "cell_type": "code",
      "execution_count": 2,
      "metadata": {
        "id": "Ar7QcIGfC-Ve"
      },
      "outputs": [],
      "source": [
        "import pandas as pd\n",
        "from sklearn.preprocessing import LabelEncoder, MinMaxScaler\n",
        "from sklearn.model_selection import train_test_split\n",
        "from deepctr.models import xDeepFM\n",
        "from deepctr.feature_column import  SparseFeat,get_feature_names\n"
      ]
    },
    {
      "cell_type": "code",
      "source": [
        "data=pd.read_csv(\"/content/criteo_sample.txt\")\n",
        "data"
      ],
      "metadata": {
        "colab": {
          "base_uri": "https://localhost:8080/",
          "height": 487
        },
        "id": "9LWUNKhBGUJK",
        "outputId": "428b195c-b6b2-46d4-9f14-a3825a54797e"
      },
      "execution_count": 3,
      "outputs": [
        {
          "output_type": "execute_result",
          "data": {
            "text/plain": [
              "     label   I1  I2     I3    I4       I5     I6    I7    I8     I9  ...  \\\n",
              "0        0  NaN   3  260.0   NaN  17668.0    NaN   NaN  33.0    NaN  ...   \n",
              "1        0  NaN  -1   19.0  35.0  30251.0  247.0   1.0  35.0  160.0  ...   \n",
              "2        0  0.0   0    2.0  12.0   2013.0  164.0   6.0  35.0  523.0  ...   \n",
              "3        0  NaN  13    1.0   4.0  16836.0  200.0   5.0   4.0   29.0  ...   \n",
              "4        0  0.0   0  104.0  27.0   1990.0  142.0   4.0  32.0   37.0  ...   \n",
              "..     ...  ...  ..    ...   ...      ...    ...   ...   ...    ...  ...   \n",
              "195      0  NaN   0  113.0   3.0   3036.0  575.0   2.0   3.0  214.0  ...   \n",
              "196      1  0.0   1    1.0   1.0   1607.0   12.0   1.0  12.0   15.0  ...   \n",
              "197      1  1.0   0    6.0   3.0      0.0    0.0  19.0   3.0    3.0  ...   \n",
              "198      0  0.0  22    6.0  22.0    203.0  153.0  80.0  18.0  508.0  ...   \n",
              "199      0  1.0  -1    NaN   NaN    138.0    0.0   1.0   0.0    0.0  ...   \n",
              "\n",
              "          C17       C18       C19       C20       C21       C22       C23  \\\n",
              "0    e5ba7672  87c6f83c       NaN       NaN  0429f84b       NaN  3a171ecb   \n",
              "1    d4bb7bd8  6fc84bfb       NaN       NaN  5155d8a3       NaN  be7c41b4   \n",
              "2    e5ba7672  675c9258       NaN       NaN  2e01979f       NaN  bcdee96c   \n",
              "3    e5ba7672  52e44668       NaN       NaN  e587c466       NaN  32c7478e   \n",
              "4    e5ba7672  25c88e42  21ddcdc9  b1252a9d  0e8585d2       NaN  32c7478e   \n",
              "..        ...       ...       ...       ...       ...       ...       ...   \n",
              "195  07c540c4  9880032b  21ddcdc9  5840adea  34cc61bb  c9d4222a  32c7478e   \n",
              "196  1e88c74f  3972b4ed       NaN       NaN  d1aa4512       NaN  32c7478e   \n",
              "197  3486227d  5aed7436  54591762  a458ea53  4a2c3526       NaN  32c7478e   \n",
              "198  3486227d  13145934  55dd3565  5840adea  bf647035       NaN  32c7478e   \n",
              "199  d4bb7bd8  908eaeb8       NaN       NaN       NaN       NaN  32c7478e   \n",
              "\n",
              "          C24       C25       C26  \n",
              "0    c0d61a5c       NaN       NaN  \n",
              "1    ded4aac9       NaN       NaN  \n",
              "2    6d5d1302       NaN       NaN  \n",
              "3    3b183c5c       NaN       NaN  \n",
              "4    0d4a6d1a  001f3601  92c878de  \n",
              "..        ...       ...       ...  \n",
              "195  e5ed7da2  ea9a246c  984e0db0  \n",
              "196  9257f75f       NaN       NaN  \n",
              "197  1793a828  e8b83407  1a02cbe1  \n",
              "198  1481ceb4  e8b83407  988b0775  \n",
              "199       NaN       NaN       NaN  \n",
              "\n",
              "[200 rows x 40 columns]"
            ],
            "text/html": [
              "\n",
              "  <div id=\"df-a420972a-ac3f-4285-aedd-7334f29636d9\">\n",
              "    <div class=\"colab-df-container\">\n",
              "      <div>\n",
              "<style scoped>\n",
              "    .dataframe tbody tr th:only-of-type {\n",
              "        vertical-align: middle;\n",
              "    }\n",
              "\n",
              "    .dataframe tbody tr th {\n",
              "        vertical-align: top;\n",
              "    }\n",
              "\n",
              "    .dataframe thead th {\n",
              "        text-align: right;\n",
              "    }\n",
              "</style>\n",
              "<table border=\"1\" class=\"dataframe\">\n",
              "  <thead>\n",
              "    <tr style=\"text-align: right;\">\n",
              "      <th></th>\n",
              "      <th>label</th>\n",
              "      <th>I1</th>\n",
              "      <th>I2</th>\n",
              "      <th>I3</th>\n",
              "      <th>I4</th>\n",
              "      <th>I5</th>\n",
              "      <th>I6</th>\n",
              "      <th>I7</th>\n",
              "      <th>I8</th>\n",
              "      <th>I9</th>\n",
              "      <th>...</th>\n",
              "      <th>C17</th>\n",
              "      <th>C18</th>\n",
              "      <th>C19</th>\n",
              "      <th>C20</th>\n",
              "      <th>C21</th>\n",
              "      <th>C22</th>\n",
              "      <th>C23</th>\n",
              "      <th>C24</th>\n",
              "      <th>C25</th>\n",
              "      <th>C26</th>\n",
              "    </tr>\n",
              "  </thead>\n",
              "  <tbody>\n",
              "    <tr>\n",
              "      <th>0</th>\n",
              "      <td>0</td>\n",
              "      <td>NaN</td>\n",
              "      <td>3</td>\n",
              "      <td>260.0</td>\n",
              "      <td>NaN</td>\n",
              "      <td>17668.0</td>\n",
              "      <td>NaN</td>\n",
              "      <td>NaN</td>\n",
              "      <td>33.0</td>\n",
              "      <td>NaN</td>\n",
              "      <td>...</td>\n",
              "      <td>e5ba7672</td>\n",
              "      <td>87c6f83c</td>\n",
              "      <td>NaN</td>\n",
              "      <td>NaN</td>\n",
              "      <td>0429f84b</td>\n",
              "      <td>NaN</td>\n",
              "      <td>3a171ecb</td>\n",
              "      <td>c0d61a5c</td>\n",
              "      <td>NaN</td>\n",
              "      <td>NaN</td>\n",
              "    </tr>\n",
              "    <tr>\n",
              "      <th>1</th>\n",
              "      <td>0</td>\n",
              "      <td>NaN</td>\n",
              "      <td>-1</td>\n",
              "      <td>19.0</td>\n",
              "      <td>35.0</td>\n",
              "      <td>30251.0</td>\n",
              "      <td>247.0</td>\n",
              "      <td>1.0</td>\n",
              "      <td>35.0</td>\n",
              "      <td>160.0</td>\n",
              "      <td>...</td>\n",
              "      <td>d4bb7bd8</td>\n",
              "      <td>6fc84bfb</td>\n",
              "      <td>NaN</td>\n",
              "      <td>NaN</td>\n",
              "      <td>5155d8a3</td>\n",
              "      <td>NaN</td>\n",
              "      <td>be7c41b4</td>\n",
              "      <td>ded4aac9</td>\n",
              "      <td>NaN</td>\n",
              "      <td>NaN</td>\n",
              "    </tr>\n",
              "    <tr>\n",
              "      <th>2</th>\n",
              "      <td>0</td>\n",
              "      <td>0.0</td>\n",
              "      <td>0</td>\n",
              "      <td>2.0</td>\n",
              "      <td>12.0</td>\n",
              "      <td>2013.0</td>\n",
              "      <td>164.0</td>\n",
              "      <td>6.0</td>\n",
              "      <td>35.0</td>\n",
              "      <td>523.0</td>\n",
              "      <td>...</td>\n",
              "      <td>e5ba7672</td>\n",
              "      <td>675c9258</td>\n",
              "      <td>NaN</td>\n",
              "      <td>NaN</td>\n",
              "      <td>2e01979f</td>\n",
              "      <td>NaN</td>\n",
              "      <td>bcdee96c</td>\n",
              "      <td>6d5d1302</td>\n",
              "      <td>NaN</td>\n",
              "      <td>NaN</td>\n",
              "    </tr>\n",
              "    <tr>\n",
              "      <th>3</th>\n",
              "      <td>0</td>\n",
              "      <td>NaN</td>\n",
              "      <td>13</td>\n",
              "      <td>1.0</td>\n",
              "      <td>4.0</td>\n",
              "      <td>16836.0</td>\n",
              "      <td>200.0</td>\n",
              "      <td>5.0</td>\n",
              "      <td>4.0</td>\n",
              "      <td>29.0</td>\n",
              "      <td>...</td>\n",
              "      <td>e5ba7672</td>\n",
              "      <td>52e44668</td>\n",
              "      <td>NaN</td>\n",
              "      <td>NaN</td>\n",
              "      <td>e587c466</td>\n",
              "      <td>NaN</td>\n",
              "      <td>32c7478e</td>\n",
              "      <td>3b183c5c</td>\n",
              "      <td>NaN</td>\n",
              "      <td>NaN</td>\n",
              "    </tr>\n",
              "    <tr>\n",
              "      <th>4</th>\n",
              "      <td>0</td>\n",
              "      <td>0.0</td>\n",
              "      <td>0</td>\n",
              "      <td>104.0</td>\n",
              "      <td>27.0</td>\n",
              "      <td>1990.0</td>\n",
              "      <td>142.0</td>\n",
              "      <td>4.0</td>\n",
              "      <td>32.0</td>\n",
              "      <td>37.0</td>\n",
              "      <td>...</td>\n",
              "      <td>e5ba7672</td>\n",
              "      <td>25c88e42</td>\n",
              "      <td>21ddcdc9</td>\n",
              "      <td>b1252a9d</td>\n",
              "      <td>0e8585d2</td>\n",
              "      <td>NaN</td>\n",
              "      <td>32c7478e</td>\n",
              "      <td>0d4a6d1a</td>\n",
              "      <td>001f3601</td>\n",
              "      <td>92c878de</td>\n",
              "    </tr>\n",
              "    <tr>\n",
              "      <th>...</th>\n",
              "      <td>...</td>\n",
              "      <td>...</td>\n",
              "      <td>...</td>\n",
              "      <td>...</td>\n",
              "      <td>...</td>\n",
              "      <td>...</td>\n",
              "      <td>...</td>\n",
              "      <td>...</td>\n",
              "      <td>...</td>\n",
              "      <td>...</td>\n",
              "      <td>...</td>\n",
              "      <td>...</td>\n",
              "      <td>...</td>\n",
              "      <td>...</td>\n",
              "      <td>...</td>\n",
              "      <td>...</td>\n",
              "      <td>...</td>\n",
              "      <td>...</td>\n",
              "      <td>...</td>\n",
              "      <td>...</td>\n",
              "      <td>...</td>\n",
              "    </tr>\n",
              "    <tr>\n",
              "      <th>195</th>\n",
              "      <td>0</td>\n",
              "      <td>NaN</td>\n",
              "      <td>0</td>\n",
              "      <td>113.0</td>\n",
              "      <td>3.0</td>\n",
              "      <td>3036.0</td>\n",
              "      <td>575.0</td>\n",
              "      <td>2.0</td>\n",
              "      <td>3.0</td>\n",
              "      <td>214.0</td>\n",
              "      <td>...</td>\n",
              "      <td>07c540c4</td>\n",
              "      <td>9880032b</td>\n",
              "      <td>21ddcdc9</td>\n",
              "      <td>5840adea</td>\n",
              "      <td>34cc61bb</td>\n",
              "      <td>c9d4222a</td>\n",
              "      <td>32c7478e</td>\n",
              "      <td>e5ed7da2</td>\n",
              "      <td>ea9a246c</td>\n",
              "      <td>984e0db0</td>\n",
              "    </tr>\n",
              "    <tr>\n",
              "      <th>196</th>\n",
              "      <td>1</td>\n",
              "      <td>0.0</td>\n",
              "      <td>1</td>\n",
              "      <td>1.0</td>\n",
              "      <td>1.0</td>\n",
              "      <td>1607.0</td>\n",
              "      <td>12.0</td>\n",
              "      <td>1.0</td>\n",
              "      <td>12.0</td>\n",
              "      <td>15.0</td>\n",
              "      <td>...</td>\n",
              "      <td>1e88c74f</td>\n",
              "      <td>3972b4ed</td>\n",
              "      <td>NaN</td>\n",
              "      <td>NaN</td>\n",
              "      <td>d1aa4512</td>\n",
              "      <td>NaN</td>\n",
              "      <td>32c7478e</td>\n",
              "      <td>9257f75f</td>\n",
              "      <td>NaN</td>\n",
              "      <td>NaN</td>\n",
              "    </tr>\n",
              "    <tr>\n",
              "      <th>197</th>\n",
              "      <td>1</td>\n",
              "      <td>1.0</td>\n",
              "      <td>0</td>\n",
              "      <td>6.0</td>\n",
              "      <td>3.0</td>\n",
              "      <td>0.0</td>\n",
              "      <td>0.0</td>\n",
              "      <td>19.0</td>\n",
              "      <td>3.0</td>\n",
              "      <td>3.0</td>\n",
              "      <td>...</td>\n",
              "      <td>3486227d</td>\n",
              "      <td>5aed7436</td>\n",
              "      <td>54591762</td>\n",
              "      <td>a458ea53</td>\n",
              "      <td>4a2c3526</td>\n",
              "      <td>NaN</td>\n",
              "      <td>32c7478e</td>\n",
              "      <td>1793a828</td>\n",
              "      <td>e8b83407</td>\n",
              "      <td>1a02cbe1</td>\n",
              "    </tr>\n",
              "    <tr>\n",
              "      <th>198</th>\n",
              "      <td>0</td>\n",
              "      <td>0.0</td>\n",
              "      <td>22</td>\n",
              "      <td>6.0</td>\n",
              "      <td>22.0</td>\n",
              "      <td>203.0</td>\n",
              "      <td>153.0</td>\n",
              "      <td>80.0</td>\n",
              "      <td>18.0</td>\n",
              "      <td>508.0</td>\n",
              "      <td>...</td>\n",
              "      <td>3486227d</td>\n",
              "      <td>13145934</td>\n",
              "      <td>55dd3565</td>\n",
              "      <td>5840adea</td>\n",
              "      <td>bf647035</td>\n",
              "      <td>NaN</td>\n",
              "      <td>32c7478e</td>\n",
              "      <td>1481ceb4</td>\n",
              "      <td>e8b83407</td>\n",
              "      <td>988b0775</td>\n",
              "    </tr>\n",
              "    <tr>\n",
              "      <th>199</th>\n",
              "      <td>0</td>\n",
              "      <td>1.0</td>\n",
              "      <td>-1</td>\n",
              "      <td>NaN</td>\n",
              "      <td>NaN</td>\n",
              "      <td>138.0</td>\n",
              "      <td>0.0</td>\n",
              "      <td>1.0</td>\n",
              "      <td>0.0</td>\n",
              "      <td>0.0</td>\n",
              "      <td>...</td>\n",
              "      <td>d4bb7bd8</td>\n",
              "      <td>908eaeb8</td>\n",
              "      <td>NaN</td>\n",
              "      <td>NaN</td>\n",
              "      <td>NaN</td>\n",
              "      <td>NaN</td>\n",
              "      <td>32c7478e</td>\n",
              "      <td>NaN</td>\n",
              "      <td>NaN</td>\n",
              "      <td>NaN</td>\n",
              "    </tr>\n",
              "  </tbody>\n",
              "</table>\n",
              "<p>200 rows × 40 columns</p>\n",
              "</div>\n",
              "      <button class=\"colab-df-convert\" onclick=\"convertToInteractive('df-a420972a-ac3f-4285-aedd-7334f29636d9')\"\n",
              "              title=\"Convert this dataframe to an interactive table.\"\n",
              "              style=\"display:none;\">\n",
              "        \n",
              "  <svg xmlns=\"http://www.w3.org/2000/svg\" height=\"24px\"viewBox=\"0 0 24 24\"\n",
              "       width=\"24px\">\n",
              "    <path d=\"M0 0h24v24H0V0z\" fill=\"none\"/>\n",
              "    <path d=\"M18.56 5.44l.94 2.06.94-2.06 2.06-.94-2.06-.94-.94-2.06-.94 2.06-2.06.94zm-11 1L8.5 8.5l.94-2.06 2.06-.94-2.06-.94L8.5 2.5l-.94 2.06-2.06.94zm10 10l.94 2.06.94-2.06 2.06-.94-2.06-.94-.94-2.06-.94 2.06-2.06.94z\"/><path d=\"M17.41 7.96l-1.37-1.37c-.4-.4-.92-.59-1.43-.59-.52 0-1.04.2-1.43.59L10.3 9.45l-7.72 7.72c-.78.78-.78 2.05 0 2.83L4 21.41c.39.39.9.59 1.41.59.51 0 1.02-.2 1.41-.59l7.78-7.78 2.81-2.81c.8-.78.8-2.07 0-2.86zM5.41 20L4 18.59l7.72-7.72 1.47 1.35L5.41 20z\"/>\n",
              "  </svg>\n",
              "      </button>\n",
              "      \n",
              "  <style>\n",
              "    .colab-df-container {\n",
              "      display:flex;\n",
              "      flex-wrap:wrap;\n",
              "      gap: 12px;\n",
              "    }\n",
              "\n",
              "    .colab-df-convert {\n",
              "      background-color: #E8F0FE;\n",
              "      border: none;\n",
              "      border-radius: 50%;\n",
              "      cursor: pointer;\n",
              "      display: none;\n",
              "      fill: #1967D2;\n",
              "      height: 32px;\n",
              "      padding: 0 0 0 0;\n",
              "      width: 32px;\n",
              "    }\n",
              "\n",
              "    .colab-df-convert:hover {\n",
              "      background-color: #E2EBFA;\n",
              "      box-shadow: 0px 1px 2px rgba(60, 64, 67, 0.3), 0px 1px 3px 1px rgba(60, 64, 67, 0.15);\n",
              "      fill: #174EA6;\n",
              "    }\n",
              "\n",
              "    [theme=dark] .colab-df-convert {\n",
              "      background-color: #3B4455;\n",
              "      fill: #D2E3FC;\n",
              "    }\n",
              "\n",
              "    [theme=dark] .colab-df-convert:hover {\n",
              "      background-color: #434B5C;\n",
              "      box-shadow: 0px 1px 3px 1px rgba(0, 0, 0, 0.15);\n",
              "      filter: drop-shadow(0px 1px 2px rgba(0, 0, 0, 0.3));\n",
              "      fill: #FFFFFF;\n",
              "    }\n",
              "  </style>\n",
              "\n",
              "      <script>\n",
              "        const buttonEl =\n",
              "          document.querySelector('#df-a420972a-ac3f-4285-aedd-7334f29636d9 button.colab-df-convert');\n",
              "        buttonEl.style.display =\n",
              "          google.colab.kernel.accessAllowed ? 'block' : 'none';\n",
              "\n",
              "        async function convertToInteractive(key) {\n",
              "          const element = document.querySelector('#df-a420972a-ac3f-4285-aedd-7334f29636d9');\n",
              "          const dataTable =\n",
              "            await google.colab.kernel.invokeFunction('convertToInteractive',\n",
              "                                                     [key], {});\n",
              "          if (!dataTable) return;\n",
              "\n",
              "          const docLinkHtml = 'Like what you see? Visit the ' +\n",
              "            '<a target=\"_blank\" href=https://colab.research.google.com/notebooks/data_table.ipynb>data table notebook</a>'\n",
              "            + ' to learn more about interactive tables.';\n",
              "          element.innerHTML = '';\n",
              "          dataTable['output_type'] = 'display_data';\n",
              "          await google.colab.output.renderOutput(dataTable, element);\n",
              "          const docLink = document.createElement('div');\n",
              "          docLink.innerHTML = docLinkHtml;\n",
              "          element.appendChild(docLink);\n",
              "        }\n",
              "      </script>\n",
              "    </div>\n",
              "  </div>\n",
              "  "
            ]
          },
          "metadata": {},
          "execution_count": 3
        }
      ]
    },
    {
      "cell_type": "code",
      "source": [
        "sparse_features = ['C' + str(i) for i in range(1, 27)]\n",
        "dense_features = ['I'+str(i) for i in range(1, 14)]"
      ],
      "metadata": {
        "id": "WaTvKppZISnR"
      },
      "execution_count": 4,
      "outputs": []
    },
    {
      "cell_type": "code",
      "source": [
        "data[sparse_features] = data[sparse_features].fillna('-1', )\n",
        "data[dense_features] = data[dense_features].fillna(0,)"
      ],
      "metadata": {
        "id": "rd9ZsbfFIaE8"
      },
      "execution_count": 5,
      "outputs": []
    },
    {
      "cell_type": "code",
      "source": [
        "target = ['label']"
      ],
      "metadata": {
        "id": "QBlbMDA8Ietp"
      },
      "execution_count": 6,
      "outputs": []
    },
    {
      "cell_type": "code",
      "source": [
        "def encoding(data,feat,encoder):\n",
        "    data[feat] = encoder.fit_transform(data[feat])"
      ],
      "metadata": {
        "id": "9MnSuJbnIhrn"
      },
      "execution_count": 7,
      "outputs": []
    },
    {
      "cell_type": "code",
      "source": [
        "[encoding(data,feat,LabelEncoder()) for feat in sparse_features]"
      ],
      "metadata": {
        "colab": {
          "base_uri": "https://localhost:8080/"
        },
        "id": "_ufQqFK5IllL",
        "outputId": "f719c1d0-4267-479d-c4ce-0577c57812d7"
      },
      "execution_count": 8,
      "outputs": [
        {
          "output_type": "execute_result",
          "data": {
            "text/plain": [
              "[None,\n",
              " None,\n",
              " None,\n",
              " None,\n",
              " None,\n",
              " None,\n",
              " None,\n",
              " None,\n",
              " None,\n",
              " None,\n",
              " None,\n",
              " None,\n",
              " None,\n",
              " None,\n",
              " None,\n",
              " None,\n",
              " None,\n",
              " None,\n",
              " None,\n",
              " None,\n",
              " None,\n",
              " None,\n",
              " None,\n",
              " None,\n",
              " None,\n",
              " None]"
            ]
          },
          "metadata": {},
          "execution_count": 8
        }
      ]
    },
    {
      "cell_type": "code",
      "source": [
        "mms = MinMaxScaler(feature_range=(0,1))\n",
        "data[dense_features] = mms.fit_transform(data[dense_features])"
      ],
      "metadata": {
        "id": "p21sW2opIpO5"
      },
      "execution_count": 9,
      "outputs": []
    },
    {
      "cell_type": "code",
      "source": [
        "sparse_feature_columns = [SparseFeat(feat, vocabulary_size=data[feat].nunique(),embedding_dim=4) \\\n",
        "for i,feat in enumerate(sparse_features)]"
      ],
      "metadata": {
        "id": "fSjOUTl9Is4U"
      },
      "execution_count": 10,
      "outputs": []
    },
    {
      "cell_type": "code",
      "source": [
        "from deepctr.feature_column import  DenseFeat"
      ],
      "metadata": {
        "id": "vOx41Lq1JIhw"
      },
      "execution_count": 11,
      "outputs": []
    },
    {
      "cell_type": "code",
      "source": [
        "dense_feature_columns = [DenseFeat(feat, 1) for feat in dense_features]\n"
      ],
      "metadata": {
        "id": "yHt5LTxwJMXZ"
      },
      "execution_count": 12,
      "outputs": []
    },
    {
      "cell_type": "code",
      "source": [
        "dnn_feature_columns = sparse_feature_columns + dense_feature_columns"
      ],
      "metadata": {
        "id": "80SfOkw9JRJd"
      },
      "execution_count": 13,
      "outputs": []
    },
    {
      "cell_type": "code",
      "source": [
        "linear_feature_columns = sparse_feature_columns + dense_feature_columns\n",
        "\n",
        "feature_names = get_feature_names(linear_feature_columns + dnn_feature_columns)"
      ],
      "metadata": {
        "id": "hnIRYHylJUJs"
      },
      "execution_count": 14,
      "outputs": []
    },
    {
      "cell_type": "code",
      "source": [
        "train, test = train_test_split(data, test_size=0.2)\n",
        "\n",
        "train_model_input = {name:train[name].values for name in feature_names}\n",
        "test_model_input = {name:test[name].values for name in feature_names}"
      ],
      "metadata": {
        "id": "g0STHUXnJXei"
      },
      "execution_count": 15,
      "outputs": []
    },
    {
      "cell_type": "code",
      "source": [
        "model = xDeepFM(linear_feature_columns, dnn_feature_columns, dnn_hidden_units=(256, 256),\\\n",
        "cin_layer_size=(128, 128), \\\n",
        "cin_split_half=True, cin_activation='relu'\\\n",
        ",l2_reg_linear=1e-05,\\\n",
        "l2_reg_embedding=1e-05, l2_reg_dnn=0, l2_reg_cin=0, \\\n",
        "seed=1024, dnn_dropout=0,dnn_activation='relu', \\\n",
        "dnn_use_bn=False, task='binary')"
      ],
      "metadata": {
        "id": "7UpWz0K0Jbb1"
      },
      "execution_count": 16,
      "outputs": []
    },
    {
      "cell_type": "code",
      "source": [
        "model.compile(\"adam\", \"binary_crossentropy\",metrics=['binary_crossentropy'], )"
      ],
      "metadata": {
        "id": "1bMDifpnKd1P"
      },
      "execution_count": 17,
      "outputs": []
    },
    {
      "cell_type": "code",
      "source": [
        "history = model.fit(train_model_input, train[target].values,\n",
        "                    batch_size=256, epochs=10, verbose=2, validation_split=0.2, )"
      ],
      "metadata": {
        "colab": {
          "base_uri": "https://localhost:8080/"
        },
        "id": "v5_Q96RYKiqb",
        "outputId": "2be265fa-d476-4059-f7b9-bb1cc80185d8"
      },
      "execution_count": 18,
      "outputs": [
        {
          "output_type": "stream",
          "name": "stdout",
          "text": [
            "Epoch 1/10\n",
            "1/1 - 14s - loss: 0.7540 - binary_crossentropy: 0.7540 - val_loss: 0.6691 - val_binary_crossentropy: 0.6691\n",
            "Epoch 2/10\n",
            "1/1 - 0s - loss: 0.7151 - binary_crossentropy: 0.7150 - val_loss: 0.6515 - val_binary_crossentropy: 0.6514\n",
            "Epoch 3/10\n",
            "1/1 - 0s - loss: 0.6801 - binary_crossentropy: 0.6801 - val_loss: 0.6363 - val_binary_crossentropy: 0.6363\n",
            "Epoch 4/10\n",
            "1/1 - 0s - loss: 0.6481 - binary_crossentropy: 0.6480 - val_loss: 0.6238 - val_binary_crossentropy: 0.6238\n",
            "Epoch 5/10\n",
            "1/1 - 0s - loss: 0.6187 - binary_crossentropy: 0.6186 - val_loss: 0.6141 - val_binary_crossentropy: 0.6140\n",
            "Epoch 6/10\n",
            "1/1 - 0s - loss: 0.5916 - binary_crossentropy: 0.5916 - val_loss: 0.6070 - val_binary_crossentropy: 0.6070\n",
            "Epoch 7/10\n",
            "1/1 - 0s - loss: 0.5670 - binary_crossentropy: 0.5670 - val_loss: 0.6029 - val_binary_crossentropy: 0.6029\n",
            "Epoch 8/10\n",
            "1/1 - 0s - loss: 0.5449 - binary_crossentropy: 0.5448 - val_loss: 0.6019 - val_binary_crossentropy: 0.6019\n",
            "Epoch 9/10\n",
            "1/1 - 0s - loss: 0.5251 - binary_crossentropy: 0.5251 - val_loss: 0.6038 - val_binary_crossentropy: 0.6038\n",
            "Epoch 10/10\n",
            "1/1 - 0s - loss: 0.5076 - binary_crossentropy: 0.5076 - val_loss: 0.6084 - val_binary_crossentropy: 0.6084\n"
          ]
        }
      ]
    },
    {
      "cell_type": "code",
      "source": [
        "pred_ans_xdeep = model.predict(test_model_input, batch_size=256)\n"
      ],
      "metadata": {
        "id": "KQ-bkwmlKrIx"
      },
      "execution_count": 19,
      "outputs": []
    },
    {
      "cell_type": "code",
      "source": [
        "from sklearn.metrics import mean_squared_error"
      ],
      "metadata": {
        "id": "4y4zD3mbLJD2"
      },
      "execution_count": 20,
      "outputs": []
    },
    {
      "cell_type": "code",
      "source": [
        "mean_squared_error(test[\"label\"], pred_ans_xdeep)"
      ],
      "metadata": {
        "colab": {
          "base_uri": "https://localhost:8080/"
        },
        "id": "fC1H6Z27LNOc",
        "outputId": "183e5c30-bec1-4028-9fb0-2428e73830f1"
      },
      "execution_count": 21,
      "outputs": [
        {
          "output_type": "execute_result",
          "data": {
            "text/plain": [
              "0.20767929949302055"
            ]
          },
          "metadata": {},
          "execution_count": 21
        }
      ]
    },
    {
      "cell_type": "code",
      "source": [
        "pred_ans_xdeep"
      ],
      "metadata": {
        "colab": {
          "base_uri": "https://localhost:8080/"
        },
        "id": "qDULKpcjLyPW",
        "outputId": "ced85012-7602-441b-c115-237374dc8b98"
      },
      "execution_count": 22,
      "outputs": [
        {
          "output_type": "execute_result",
          "data": {
            "text/plain": [
              "array([[0.30340707],\n",
              "       [0.28074753],\n",
              "       [0.28099436],\n",
              "       [0.29553822],\n",
              "       [0.3028733 ],\n",
              "       [0.26976767],\n",
              "       [0.28950632],\n",
              "       [0.31198928],\n",
              "       [0.24994944],\n",
              "       [0.30933407],\n",
              "       [0.23119983],\n",
              "       [0.29478168],\n",
              "       [0.2919901 ],\n",
              "       [0.21418683],\n",
              "       [0.23255111],\n",
              "       [0.314953  ],\n",
              "       [0.30957195],\n",
              "       [0.31355318],\n",
              "       [0.302804  ],\n",
              "       [0.3163681 ],\n",
              "       [0.30711162],\n",
              "       [0.29721227],\n",
              "       [0.1866965 ],\n",
              "       [0.07810273],\n",
              "       [0.22673441],\n",
              "       [0.29898402],\n",
              "       [0.14504322],\n",
              "       [0.23859832],\n",
              "       [0.27369377],\n",
              "       [0.23533563],\n",
              "       [0.27831677],\n",
              "       [0.21016298],\n",
              "       [0.3253462 ],\n",
              "       [0.27649847],\n",
              "       [0.30232233],\n",
              "       [0.2901496 ],\n",
              "       [0.25320902],\n",
              "       [0.328436  ],\n",
              "       [0.2959744 ],\n",
              "       [0.31697345]], dtype=float32)"
            ]
          },
          "metadata": {},
          "execution_count": 22
        }
      ]
    },
    {
      "cell_type": "code",
      "source": [
        "from deepctr.models import DeepFM"
      ],
      "metadata": {
        "id": "AtrJ1Diq3MdV"
      },
      "execution_count": 23,
      "outputs": []
    },
    {
      "cell_type": "code",
      "source": [
        "model1 = DeepFM(linear_feature_columns, dnn_feature_columns, dnn_hidden_units=(256, 256),\\\n",
        "l2_reg_linear=1e-05,\\\n",
        "l2_reg_embedding=1e-05, l2_reg_dnn=0, \\\n",
        "seed=1024, dnn_dropout=0,dnn_activation='relu', \\\n",
        "dnn_use_bn=False, task='binary')"
      ],
      "metadata": {
        "id": "XbnPc4UM3YBV"
      },
      "execution_count": 24,
      "outputs": []
    },
    {
      "cell_type": "code",
      "source": [
        "model1.compile(\"adam\", \"binary_crossentropy\",metrics=['binary_crossentropy'], )"
      ],
      "metadata": {
        "id": "mruD8pFy3r-e"
      },
      "execution_count": 25,
      "outputs": []
    },
    {
      "cell_type": "code",
      "source": [
        "history = model1.fit(train_model_input, train[target].values,\n",
        "                    batch_size=256, epochs=10, verbose=2, validation_split=0.2, )"
      ],
      "metadata": {
        "id": "gQDx-xeO3tnf",
        "outputId": "8c92d460-588a-4404-a822-202e629357d5",
        "colab": {
          "base_uri": "https://localhost:8080/"
        }
      },
      "execution_count": 26,
      "outputs": [
        {
          "output_type": "stream",
          "name": "stdout",
          "text": [
            "Epoch 1/10\n",
            "1/1 - 14s - loss: 0.6413 - binary_crossentropy: 0.6413 - val_loss: 0.6625 - val_binary_crossentropy: 0.6624\n",
            "Epoch 2/10\n",
            "1/1 - 0s - loss: 0.6201 - binary_crossentropy: 0.6200 - val_loss: 0.6544 - val_binary_crossentropy: 0.6543\n",
            "Epoch 3/10\n",
            "1/1 - 0s - loss: 0.6005 - binary_crossentropy: 0.6005 - val_loss: 0.6477 - val_binary_crossentropy: 0.6476\n",
            "Epoch 4/10\n",
            "1/1 - 0s - loss: 0.5825 - binary_crossentropy: 0.5825 - val_loss: 0.6420 - val_binary_crossentropy: 0.6419\n",
            "Epoch 5/10\n",
            "1/1 - 0s - loss: 0.5654 - binary_crossentropy: 0.5654 - val_loss: 0.6375 - val_binary_crossentropy: 0.6375\n",
            "Epoch 6/10\n",
            "1/1 - 0s - loss: 0.5491 - binary_crossentropy: 0.5491 - val_loss: 0.6342 - val_binary_crossentropy: 0.6342\n",
            "Epoch 7/10\n",
            "1/1 - 0s - loss: 0.5333 - binary_crossentropy: 0.5333 - val_loss: 0.6322 - val_binary_crossentropy: 0.6322\n",
            "Epoch 8/10\n",
            "1/1 - 0s - loss: 0.5181 - binary_crossentropy: 0.5181 - val_loss: 0.6317 - val_binary_crossentropy: 0.6316\n",
            "Epoch 9/10\n",
            "1/1 - 0s - loss: 0.5033 - binary_crossentropy: 0.5033 - val_loss: 0.6326 - val_binary_crossentropy: 0.6326\n",
            "Epoch 10/10\n",
            "1/1 - 0s - loss: 0.4889 - binary_crossentropy: 0.4888 - val_loss: 0.6352 - val_binary_crossentropy: 0.6352\n"
          ]
        }
      ]
    },
    {
      "cell_type": "code",
      "source": [
        "pred_ans_deep = model1.predict(test_model_input, batch_size=256)"
      ],
      "metadata": {
        "id": "9LY9VB2N32AP"
      },
      "execution_count": 27,
      "outputs": []
    },
    {
      "cell_type": "code",
      "source": [
        "mean_squared_error(test[\"label\"], pred_ans_deep)"
      ],
      "metadata": {
        "id": "xmmvdhZe3-hI",
        "outputId": "074934b6-dbae-4f98-cfd8-3ab366d1543c",
        "colab": {
          "base_uri": "https://localhost:8080/"
        }
      },
      "execution_count": 28,
      "outputs": [
        {
          "output_type": "execute_result",
          "data": {
            "text/plain": [
              "0.20296801524184924"
            ]
          },
          "metadata": {},
          "execution_count": 28
        }
      ]
    },
    {
      "cell_type": "code",
      "source": [
        "pred_ans_deep"
      ],
      "metadata": {
        "id": "Gwy-HlRn3_fI",
        "outputId": "6781c740-e04e-4381-85ed-3543188abaab",
        "colab": {
          "base_uri": "https://localhost:8080/"
        }
      },
      "execution_count": 29,
      "outputs": [
        {
          "output_type": "execute_result",
          "data": {
            "text/plain": [
              "array([[0.35608587],\n",
              "       [0.30707148],\n",
              "       [0.1522691 ],\n",
              "       [0.34537652],\n",
              "       [0.2675847 ],\n",
              "       [0.1609956 ],\n",
              "       [0.3040123 ],\n",
              "       [0.36655435],\n",
              "       [0.20463629],\n",
              "       [0.3720277 ],\n",
              "       [0.19841757],\n",
              "       [0.30275103],\n",
              "       [0.25469127],\n",
              "       [0.16085657],\n",
              "       [0.13891542],\n",
              "       [0.27056175],\n",
              "       [0.34667084],\n",
              "       [0.38472518],\n",
              "       [0.3241339 ],\n",
              "       [0.27326018],\n",
              "       [0.3406915 ],\n",
              "       [0.3742547 ],\n",
              "       [0.13018523],\n",
              "       [0.08815108],\n",
              "       [0.22246644],\n",
              "       [0.3032702 ],\n",
              "       [0.17075075],\n",
              "       [0.33900157],\n",
              "       [0.3244718 ],\n",
              "       [0.33276832],\n",
              "       [0.30596182],\n",
              "       [0.20188454],\n",
              "       [0.39137614],\n",
              "       [0.1844284 ],\n",
              "       [0.26107743],\n",
              "       [0.35396448],\n",
              "       [0.3230076 ],\n",
              "       [0.15291172],\n",
              "       [0.32529867],\n",
              "       [0.36473325]], dtype=float32)"
            ]
          },
          "metadata": {},
          "execution_count": 29
        }
      ]
    },
    {
      "cell_type": "code",
      "source": [
        "import deepctr\n",
        "print(deepctr.__version__)"
      ],
      "metadata": {
        "id": "s7aamdUQ5Z49",
        "outputId": "5d6344f9-06f7-467e-8ed4-86f5a504c01d",
        "colab": {
          "base_uri": "https://localhost:8080/"
        }
      },
      "execution_count": 30,
      "outputs": [
        {
          "output_type": "stream",
          "name": "stdout",
          "text": [
            "0.9.3\n"
          ]
        }
      ]
    },
    {
      "cell_type": "code",
      "source": [
        "from deepctr.models import AFM\n"
      ],
      "metadata": {
        "id": "juWl7yeQ50gN"
      },
      "execution_count": 31,
      "outputs": []
    },
    {
      "cell_type": "code",
      "source": [
        "dir(deepctr.models)"
      ],
      "metadata": {
        "id": "QEs8XyLF57Gz",
        "outputId": "bb7984d3-1cef-4b02-c70d-51118fd0f9f4",
        "colab": {
          "base_uri": "https://localhost:8080/"
        }
      },
      "execution_count": 32,
      "outputs": [
        {
          "output_type": "execute_result",
          "data": {
            "text/plain": [
              "['AFM',\n",
              " 'AutoInt',\n",
              " 'BST',\n",
              " 'CCPM',\n",
              " 'DCN',\n",
              " 'DCNMix',\n",
              " 'DIEN',\n",
              " 'DIFM',\n",
              " 'DIN',\n",
              " 'DSIN',\n",
              " 'DeepFEFM',\n",
              " 'DeepFM',\n",
              " 'EDCN',\n",
              " 'ESMM',\n",
              " 'FGCNN',\n",
              " 'FLEN',\n",
              " 'FNN',\n",
              " 'FiBiNET',\n",
              " 'FwFM',\n",
              " 'IFM',\n",
              " 'MLR',\n",
              " 'MMOE',\n",
              " 'NFM',\n",
              " 'ONN',\n",
              " 'PLE',\n",
              " 'PNN',\n",
              " 'SharedBottom',\n",
              " 'WDL',\n",
              " '__all__',\n",
              " '__builtins__',\n",
              " '__cached__',\n",
              " '__doc__',\n",
              " '__file__',\n",
              " '__loader__',\n",
              " '__name__',\n",
              " '__package__',\n",
              " '__path__',\n",
              " '__spec__',\n",
              " 'afm',\n",
              " 'autoint',\n",
              " 'ccpm',\n",
              " 'dcn',\n",
              " 'dcnmix',\n",
              " 'deepfefm',\n",
              " 'deepfm',\n",
              " 'difm',\n",
              " 'edcn',\n",
              " 'fgcnn',\n",
              " 'fibinet',\n",
              " 'flen',\n",
              " 'fnn',\n",
              " 'fwfm',\n",
              " 'ifm',\n",
              " 'mlr',\n",
              " 'multitask',\n",
              " 'nfm',\n",
              " 'onn',\n",
              " 'pnn',\n",
              " 'sequence',\n",
              " 'wdl',\n",
              " 'xDeepFM',\n",
              " 'xdeepfm']"
            ]
          },
          "metadata": {},
          "execution_count": 32
        }
      ]
    },
    {
      "cell_type": "code",
      "source": [
        "import numpy as np\n",
        "import pandas as pd\n",
        "from sklearn.metrics import mean_squared_error, roc_auc_score\n",
        "from sklearn.model_selection import train_test_split\n",
        "from deepctr.models import FM, DeepFM, NFFM, AFM\n",
        "from deepctr.inputs import SparseFeat, DenseFeat, get_feature_names\n",
        "\n",
        "# generate sample data\n",
        "np.random.seed(0)\n",
        "feature_dim = 5\n",
        "sample_size = 10000\n",
        "sparse_features = ['feat_' + str(i) for i in range(1, 4)]\n",
        "dense_features = ['feat_' + str(i) for i in range(4, feature_dim + 1)]\n",
        "data = {\n",
        "    'feat_' + str(i): np.random.randint(0, 10, sample_size) for i in range(1, feature_dim + 1)\n",
        "}\n",
        "data['label'] = np.random.randint(0, 2, sample_size)\n",
        "\n",
        "# create feature columns\n",
        "feature_columns = [\n",
        "    SparseFeat(feat, vocabulary_size=data[feat].max() + 1, embedding_dim=4)\n",
        "    for feat in sparse_features\n",
        "] + [\n",
        "    DenseFeat(feat, 1)\n",
        "    for feat in dense_features\n",
        "]\n",
        "\n",
        "# create train and test data\n",
        "train_data, test_data = train_test_split(pd.DataFrame(data), test_size=0.2)\n",
        "\n",
        "# create input tensors\n",
        "train_sparse_features = [train_data[feat].values for feat in sparse_features]\n",
        "train_dense_features = np.array(train_data[dense_features].values, dtype=np.float32)\n",
        "train_labels = train_data['label'].values.astype(np.float32)\n",
        "\n",
        "test_sparse_features = [test_data[feat].values for feat in sparse_features]\n",
        "test_dense_features = np.array(test_data[dense_features].values, dtype=np.float32)\n",
        "test_labels = test_data['label'].values.astype(np.float32)\n",
        "\n",
        "# create model and train on train data\n",
        "models = [\n",
        "    FM(feature_columns),\n",
        "    DeepFM(feature_columns),\n",
        "    NFFM(feature_columns),\n",
        "    AFM(feature_columns),\n",
        "]\n",
        "for model in models:\n",
        "    model.compile(optimizer='adam', loss='mse', metrics=['AUC'])\n",
        "    model.fit(\n",
        "        x=[train_sparse_features, train_dense_features],\n",
        "        y=train_labels,\n",
        "        epochs=10,\n",
        "        batch_size=32,\n",
        "        validation_data=(\n",
        "            [test_sparse_features, test_dense_features],\n",
        "            test_labels,\n",
        "        ),\n",
        "        verbose=0,\n",
        "    )\n",
        "\n",
        "# evaluate models on test data\n",
        "for i, model in enumerate(models):\n",
        "    print('Model', i+1, ':')\n",
        "    y_pred = model.predict([test_sparse_features, test_dense_features])\n",
        "    mse = mean_squared_error(test_labels, y_pred)\n",
        "    auc = roc_auc_score(test_labels, y_pred)\n",
        "    print('  Mean Squared Error:', mse)\n",
        "    print('  AUC:', auc)"
      ],
      "metadata": {
        "id": "ZH-S1yG-aSvM"
      },
      "execution_count": null,
      "outputs": []
    }
  ]
}